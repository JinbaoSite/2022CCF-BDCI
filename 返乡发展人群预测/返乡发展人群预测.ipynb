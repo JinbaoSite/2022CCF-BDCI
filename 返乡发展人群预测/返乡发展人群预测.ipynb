{
 "cells": [
  {
   "cell_type": "code",
   "execution_count": 1,
   "id": "e57f8a4b",
   "metadata": {},
   "outputs": [
    {
     "name": "stderr",
     "output_type": "stream",
     "text": [
      "C:\\Users\\Jinbao\\anaconda3\\lib\\site-packages\\xgboost\\compat.py:36: FutureWarning: pandas.Int64Index is deprecated and will be removed from pandas in a future version. Use pandas.Index with the appropriate dtype instead.\n",
      "  from pandas import MultiIndex, Int64Index\n"
     ]
    }
   ],
   "source": [
    "# -*- coding: utf-8 -*-\n",
    "import numpy as np\n",
    "import pandas as pd\n",
    "from sklearn.preprocessing import LabelEncoder\n",
    "from sklearn.linear_model import LogisticRegression\n",
    "from xgboost import XGBClassifier\n",
    "from lightgbm import LGBMClassifier\n",
    "from catboost import CatBoostClassifier\n",
    "from sklearn.ensemble import GradientBoostingClassifier\n",
    "from sklearn.ensemble import HistGradientBoostingClassifier\n",
    "from sklearn.ensemble import StackingClassifier\n",
    "from sklearn.model_selection import StratifiedKFold\n",
    "from sklearn.metrics import roc_auc_score\n",
    "from sklearn.model_selection import train_test_split\n",
    "import warnings\n",
    "from tqdm import tqdm\n",
    "warnings.filterwarnings('ignore')"
   ]
  },
  {
   "cell_type": "code",
   "execution_count": 2,
   "id": "189c3e78",
   "metadata": {},
   "outputs": [],
   "source": [
    "train_data = pd.read_csv('data/dataTrain.csv')\n",
    "test_data = pd.read_csv('data/dataA.csv')\n",
    "submission = pd.read_csv('data/submit_example_A.csv')\n",
    "data_nolabel = pd.read_csv('data/dataNoLabel.csv')"
   ]
  },
  {
   "cell_type": "markdown",
   "id": "8c739655",
   "metadata": {},
   "source": [
    "`train.csv`:包含全量数据集的70%（dataNoLabel是训练集的一部分，选手可以自己决定是否使用）\n",
    "\n",
    "`test.csv`:包含全量数据集的30%\n",
    "\n",
    "位置类特特征：基于联通基站产生的用户信令数据；`f1~f6`\n",
    "\n",
    "互联网类特征：基于联通用户上网产生的上网行为数据； `f7~f42`\n",
    "\n",
    "通话类特征：基于联通用户日常通话、短信产生的数据`f43~f46`"
   ]
  },
  {
   "cell_type": "code",
   "execution_count": 3,
   "id": "34b97daf",
   "metadata": {},
   "outputs": [
    {
     "name": "stdout",
     "output_type": "stream",
     "text": [
      "train_data.shape = (59872, 48)\n",
      "test_data.shape  = (49858, 47)\n"
     ]
    }
   ],
   "source": [
    "print(f'train_data.shape = {train_data.shape}\\ntest_data.shape  = {test_data.shape}')"
   ]
  },
  {
   "cell_type": "code",
   "execution_count": 4,
   "id": "807a0ab7",
   "metadata": {},
   "outputs": [],
   "source": [
    "train_data['f47'] = train_data['f1'] * 10 + train_data['f2']\n",
    "test_data['f47'] = test_data['f1'] * 10 + test_data['f2']\n",
    "# 暴力Feature 位置\n",
    "loc_f = ['f1', 'f2', 'f4', 'f5', 'f6']\n",
    "for df in [train_data, test_data]:\n",
    "    for i in range(len(loc_f)):\n",
    "        for j in range(i + 1, len(loc_f)):\n",
    "            df[f'{loc_f[i]}+{loc_f[j]}'] = df[loc_f[i]] + df[loc_f[j]]\n",
    "            df[f'{loc_f[i]}-{loc_f[j]}'] = df[loc_f[i]] - df[loc_f[j]]\n",
    "            df[f'{loc_f[i]}*{loc_f[j]}'] = df[loc_f[i]] * df[loc_f[j]]\n",
    "            df[f'{loc_f[i]}/{loc_f[j]}'] = df[loc_f[i]] / (df[loc_f[j]]+1)\n",
    "\n",
    "# 暴力Feature 通话\n",
    "com_f = ['f43', 'f44', 'f45', 'f46']\n",
    "for df in [train_data, test_data]:\n",
    "    for i in range(len(com_f)):\n",
    "        for j in range(i + 1, len(com_f)):\n",
    "            df[f'{com_f[i]}+{com_f[j]}'] = df[com_f[i]] + df[com_f[j]]\n",
    "            df[f'{com_f[i]}-{com_f[j]}'] = df[com_f[i]] - df[com_f[j]]\n",
    "            df[f'{com_f[i]}*{com_f[j]}'] = df[com_f[i]] * df[com_f[j]]\n",
    "            df[f'{com_f[i]}/{com_f[j]}'] = df[com_f[i]] / (df[com_f[j]]+1)"
   ]
  },
  {
   "cell_type": "code",
   "execution_count": 5,
   "id": "2a9a346d",
   "metadata": {},
   "outputs": [],
   "source": [
    "cat_columns = ['f3']\n",
    "data = pd.concat([train_data, test_data])\n",
    "\n",
    "for col in cat_columns:\n",
    "    lb = LabelEncoder()\n",
    "    lb.fit(data[col])\n",
    "    train_data[col] = lb.transform(train_data[col])\n",
    "    test_data[col] = lb.transform(test_data[col])"
   ]
  },
  {
   "cell_type": "code",
   "execution_count": 6,
   "id": "4ed494bd",
   "metadata": {},
   "outputs": [],
   "source": [
    "num_columns = [ col for col in train_data.columns if col not in ['id', 'label', 'f3']]\n",
    "feature_columns = num_columns + cat_columns\n",
    "target = 'label'\n",
    "\n",
    "train = train_data[feature_columns]\n",
    "label = train_data[target]\n",
    "test = test_data[feature_columns]"
   ]
  },
  {
   "cell_type": "code",
   "execution_count": 7,
   "id": "504c3408",
   "metadata": {},
   "outputs": [],
   "source": [
    "train = train[:50000]\n",
    "label = label[:50000]"
   ]
  },
  {
   "cell_type": "code",
   "execution_count": 8,
   "id": "dd7bc23f",
   "metadata": {},
   "outputs": [],
   "source": [
    "def model_train(model, model_name, kfold=5):\n",
    "    oof_preds = np.zeros((train.shape[0]))\n",
    "    test_preds = np.zeros(test.shape[0])\n",
    "    skf = StratifiedKFold(n_splits=kfold, shuffle=True)\n",
    "\n",
    "    for k, (train_index, test_index) in enumerate(skf.split(train, label)):\n",
    "        x_train, x_test = train.iloc[train_index, :], train.iloc[test_index, :]\n",
    "        y_train, y_test = label.iloc[train_index], label.iloc[test_index]\n",
    "\n",
    "        model.fit(x_train,y_train)\n",
    "\n",
    "        y_pred = model.predict_proba(x_test)[:,1]\n",
    "        oof_preds[test_index] = y_pred.ravel()\n",
    "        auc = roc_auc_score(y_test,y_pred)\n",
    "        print(\"Model = %s, KFold = %d, val_auc = %.4f\" % (model_name, k, auc))\n",
    "        test_fold_preds = model.predict_proba(test)[:, 1]\n",
    "        test_preds += test_fold_preds.ravel()\n",
    "    print(\"Overall Model = %s, AUC = %.4f\" % (model_name, roc_auc_score(label, oof_preds)))\n",
    "    return test_preds / kfold"
   ]
  },
  {
   "cell_type": "code",
   "execution_count": 9,
   "id": "add9cadb",
   "metadata": {},
   "outputs": [],
   "source": [
    "gbc = GradientBoostingClassifier(\n",
    "    n_estimators=50, \n",
    "    learning_rate=0.1,\n",
    "    max_depth=5\n",
    ")\n",
    "hgbc = HistGradientBoostingClassifier(\n",
    "    max_iter=100,\n",
    "    max_depth=5\n",
    ")\n",
    "xgbc = XGBClassifier(\n",
    "    objective='binary:logistic',\n",
    "    eval_metric='auc',\n",
    "    n_estimators=100, \n",
    "    max_depth=6, \n",
    "    learning_rate=0.1\n",
    ")\n",
    "gbm = LGBMClassifier(\n",
    "    objective='binary',\n",
    "    boosting_type='gbdt',\n",
    "    num_leaves=2 ** 6, \n",
    "    max_depth=8,\n",
    "    colsample_bytree=0.8,\n",
    "    subsample_freq=1,\n",
    "    max_bin=255,\n",
    "    learning_rate=0.05, \n",
    "    n_estimators=100, \n",
    "    metrics='auc'\n",
    ")\n",
    "cbc = CatBoostClassifier(\n",
    "    iterations=210, \n",
    "    depth=6, \n",
    "    learning_rate=0.03, \n",
    "    l2_leaf_reg=1, \n",
    "    loss_function='Logloss', \n",
    "    verbose=0\n",
    ")"
   ]
  },
  {
   "cell_type": "code",
   "execution_count": 10,
   "id": "833742f5",
   "metadata": {},
   "outputs": [],
   "source": [
    "estimators = [\n",
    "    ('gbc', gbc),\n",
    "    ('hgbc', hgbc),\n",
    "    ('xgbc', xgbc),\n",
    "    ('gbm', gbm),\n",
    "    ('cbc', cbc)\n",
    "]\n",
    "clf = StackingClassifier(\n",
    "    estimators=estimators, \n",
    "    final_estimator=LogisticRegression()\n",
    ")"
   ]
  },
  {
   "cell_type": "code",
   "execution_count": 11,
   "id": "8cea65ed",
   "metadata": {},
   "outputs": [],
   "source": [
    "X_train, X_test, y_train, y_test = train_test_split(\n",
    "    train, label, stratify=label, random_state=2022)"
   ]
  },
  {
   "cell_type": "code",
   "execution_count": 12,
   "id": "43a54a6c",
   "metadata": {},
   "outputs": [
    {
     "name": "stdout",
     "output_type": "stream",
     "text": [
      "auc = 0.91325893\n"
     ]
    }
   ],
   "source": [
    "clf.fit(X_train, y_train)\n",
    "y_pred = clf.predict_proba(X_test)[:, 1]\n",
    "auc = roc_auc_score(y_test, y_pred)\n",
    "print('auc = %.8f' % auc)"
   ]
  },
  {
   "cell_type": "code",
   "execution_count": 13,
   "id": "7749a56b",
   "metadata": {},
   "outputs": [],
   "source": [
    "features = []\n",
    "feature_importances = []\n",
    "for col in feature_columns:\n",
    "    x_test = X_test.copy()\n",
    "    x_test[col] = 0\n",
    "    auc1 = roc_auc_score(y_test, clf.predict_proba(x_test)[:, 1])\n",
    "    if auc1 < auc:\n",
    "        features.append(col)\n",
    "    feature_importances.append([col, auc1, auc1 - auc])"
   ]
  },
  {
   "cell_type": "code",
   "execution_count": 14,
   "id": "58a174bc",
   "metadata": {},
   "outputs": [
    {
     "name": "stdout",
     "output_type": "stream",
     "text": [
      "|      f2/f6 | 0.91233454 | -0.00092440 |\n",
      "|      f4/f5 | 0.91240402 | -0.00085492 |\n",
      "|      f4-f5 | 0.91252992 | -0.00072902 |\n",
      "|      f2/f4 | 0.91253911 | -0.00071982 |\n",
      "|         f3 | 0.91264223 | -0.00061670 |\n",
      "|        f19 | 0.91271138 | -0.00054755 |\n",
      "|        f47 | 0.91273260 | -0.00052634 |\n",
      "|      f5-f6 | 0.91275365 | -0.00050528 |\n",
      "|     f1-f46 | 0.91281074 | -0.00044819 |\n",
      "|    f45/f46 | 0.91288422 | -0.00037471 |\n",
      "|      f1/f6 | 0.91290352 | -0.00035542 |\n",
      "|     f2/f44 | 0.91291740 | -0.00034154 |\n",
      "|     f6+f46 | 0.91292273 | -0.00033620 |\n",
      "|     f1/f44 | 0.91292717 | -0.00033176 |\n",
      "|         f8 | 0.91295278 | -0.00030616 |\n",
      "|      f5/f6 | 0.91296385 | -0.00029508 |\n",
      "|    f44/f46 | 0.91298710 | -0.00027183 |\n",
      "|        f25 | 0.91299069 | -0.00026825 |\n",
      "|     f6/f45 | 0.91304788 | -0.00021105 |\n",
      "|      f2/f5 | 0.91306477 | -0.00019417 |\n",
      "|      f2-f4 | 0.91306658 | -0.00019236 |\n",
      "|        f26 | 0.91307466 | -0.00018427 |\n",
      "|        f23 | 0.91309540 | -0.00016354 |\n",
      "|      f1-f4 | 0.91309820 | -0.00016074 |\n",
      "|     f5/f46 | 0.91311608 | -0.00014286 |\n",
      "|      f5+f6 | 0.91311669 | -0.00014224 |\n",
      "|      f4/f6 | 0.91312678 | -0.00013216 |\n",
      "|     f5+f45 | 0.91313026 | -0.00012867 |\n",
      "|      f1+f2 | 0.91313973 | -0.00011920 |\n",
      "|        f24 | 0.91314283 | -0.00011611 |\n",
      "|      f4-f6 | 0.91314835 | -0.00011059 |\n",
      "|      f4+f6 | 0.91316199 | -0.00009695 |\n",
      "|     f2+f46 | 0.91316260 | -0.00009633 |\n",
      "|     f4/f45 | 0.91316325 | -0.00009568 |\n",
      "|         f6 | 0.91316554 | -0.00009339 |\n",
      "|    f43/f45 | 0.91316711 | -0.00009182 |\n",
      "|        f33 | 0.91316893 | -0.00009001 |\n",
      "|     f5+f46 | 0.91317094 | -0.00008799 |\n",
      "|         f9 | 0.91317323 | -0.00008570 |\n",
      "|     f6+f43 | 0.91317877 | -0.00008016 |\n",
      "|     f1+f46 | 0.91318151 | -0.00007743 |\n",
      "|    f45-f46 | 0.91318390 | -0.00007503 |\n",
      "|    f44/f45 | 0.91318585 | -0.00007309 |\n",
      "|      f2*f6 | 0.91318786 | -0.00007107 |\n",
      "|        f37 | 0.91318845 | -0.00007049 |\n",
      "|    f43*f46 | 0.91318896 | -0.00006998 |\n",
      "|    f43/f46 | 0.91318927 | -0.00006967 |\n",
      "|    f44-f46 | 0.91318954 | -0.00006939 |\n",
      "|     f2/f43 | 0.91319074 | -0.00006820 |\n",
      "|     f2/f45 | 0.91319094 | -0.00006799 |\n",
      "|        f36 | 0.91319450 | -0.00006444 |\n",
      "|     f4-f46 | 0.91319870 | -0.00006023 |\n",
      "|      f2*f5 | 0.91320133 | -0.00005760 |\n",
      "|      f1-f5 | 0.91320540 | -0.00005353 |\n",
      "|     f2/f46 | 0.91320626 | -0.00005268 |\n",
      "|      f2+f6 | 0.91320899 | -0.00004994 |\n",
      "|     f1/f43 | 0.91320926 | -0.00004967 |\n",
      "|      f1+f5 | 0.91321090 | -0.00004803 |\n",
      "|     f4+f45 | 0.91321104 | -0.00004789 |\n",
      "|    f44*f45 | 0.91321682 | -0.00004212 |\n",
      "|     f1/f46 | 0.91322034 | -0.00003859 |\n",
      "|     f6*f45 | 0.91322095 | -0.00003798 |\n",
      "|      f1*f5 | 0.91322106 | -0.00003788 |\n",
      "|     f4/f44 | 0.91322157 | -0.00003736 |\n",
      "|        f35 | 0.91322280 | -0.00003613 |\n",
      "|     f2*f46 | 0.91322345 | -0.00003548 |\n",
      "|     f5+f43 | 0.91322355 | -0.00003538 |\n",
      "|         f2 | 0.91322475 | -0.00003418 |\n",
      "|     f5-f46 | 0.91322724 | -0.00003169 |\n",
      "|     f2-f46 | 0.91322858 | -0.00003036 |\n",
      "|      f2-f6 | 0.91322967 | -0.00002926 |\n",
      "|     f2+f45 | 0.91323015 | -0.00002878 |\n",
      "|        f30 | 0.91323025 | -0.00002868 |\n",
      "|    f43*f44 | 0.91323049 | -0.00002844 |\n",
      "|    f43-f45 | 0.91323114 | -0.00002779 |\n",
      "|      f1/f5 | 0.91323148 | -0.00002745 |\n",
      "|     f6*f46 | 0.91323343 | -0.00002550 |\n",
      "|     f2+f44 | 0.91323350 | -0.00002543 |\n",
      "|        f21 | 0.91323353 | -0.00002540 |\n",
      "|     f4-f44 | 0.91323535 | -0.00002359 |\n",
      "|        f10 | 0.91323559 | -0.00002335 |\n",
      "|     f4+f44 | 0.91323565 | -0.00002328 |\n",
      "|     f4*f45 | 0.91323699 | -0.00002195 |\n",
      "|      f1-f2 | 0.91323941 | -0.00001952 |\n",
      "|     f4+f43 | 0.91324037 | -0.00001856 |\n",
      "|     f1/f45 | 0.91324095 | -0.00001798 |\n",
      "|     f5-f43 | 0.91324283 | -0.00001610 |\n",
      "|      f4+f5 | 0.91324345 | -0.00001549 |\n",
      "|     f5*f43 | 0.91324379 | -0.00001514 |\n",
      "|         f5 | 0.91324413 | -0.00001480 |\n",
      "|     f5*f44 | 0.91324687 | -0.00001207 |\n",
      "|     f1+f44 | 0.91324690 | -0.00001203 |\n",
      "|    f43+f45 | 0.91324741 | -0.00001152 |\n",
      "|        f31 | 0.91325059 | -0.00000834 |\n",
      "|    f43+f44 | 0.91325083 | -0.00000810 |\n",
      "|      f1-f6 | 0.91325087 | -0.00000807 |\n",
      "|    f45+f46 | 0.91325124 | -0.00000769 |\n",
      "|     f1-f43 | 0.91325254 | -0.00000639 |\n",
      "|     f6+f44 | 0.91325309 | -0.00000585 |\n",
      "|     f1*f45 | 0.91325326 | -0.00000567 |\n",
      "|        f45 | 0.91325398 | -0.00000496 |\n",
      "|     f6/f46 | 0.91325487 | -0.00000407 |\n",
      "|    f44-f45 | 0.91325524 | -0.00000369 |\n",
      "|     f1-f44 | 0.91325531 | -0.00000362 |\n",
      "|     f6*f44 | 0.91325548 | -0.00000345 |\n",
      "|     f4*f43 | 0.91325572 | -0.00000321 |\n",
      "|     f1-f45 | 0.91325589 | -0.00000304 |\n",
      "|      f1*f6 | 0.91325593 | -0.00000301 |\n",
      "|     f2*f45 | 0.91325606 | -0.00000287 |\n",
      "|        f43 | 0.91325647 | -0.00000246 |\n",
      "|     f5-f44 | 0.91325671 | -0.00000222 |\n",
      "|     f1+f43 | 0.91325681 | -0.00000212 |\n",
      "|         f7 | 0.91325685 | -0.00000209 |\n",
      "|     f4+f46 | 0.91325688 | -0.00000205 |\n",
      "|      f1+f6 | 0.91325719 | -0.00000174 |\n",
      "|     f6-f46 | 0.91325729 | -0.00000164 |\n",
      "|     f4/f43 | 0.91325791 | -0.00000103 |\n",
      "|        f12 | 0.91325828 | -0.00000065 |\n",
      "|        f42 | 0.91325863 | -0.00000031 |\n",
      "|     f1*f44 | 0.91325866 | -0.00000027 |\n",
      "|     f4*f46 | 0.91325873 | -0.00000021 |\n",
      "|        f17 | 0.91325887 | -0.00000007 |\n",
      "|        f22 | 0.91325887 | -0.00000007 |\n",
      "|         f1 | 0.91325893 | 0.00000000 |\n",
      "|        f11 | 0.91325893 | 0.00000000 |\n",
      "|        f14 | 0.91325893 | 0.00000000 |\n",
      "|        f15 | 0.91325893 | 0.00000000 |\n",
      "|        f16 | 0.91325893 | 0.00000000 |\n",
      "|        f27 | 0.91325893 | 0.00000000 |\n",
      "|        f28 | 0.91325893 | 0.00000000 |\n",
      "|        f40 | 0.91325893 | 0.00000000 |\n",
      "|        f41 | 0.91325893 | 0.00000000 |\n",
      "|        f13 | 0.91325924 | 0.00000031 |\n",
      "|     f1*f43 | 0.91325934 | 0.00000041 |\n",
      "|     f6/f43 | 0.91325945 | 0.00000051 |\n",
      "|     f4*f44 | 0.91325958 | 0.00000065 |\n",
      "|     f5+f44 | 0.91325993 | 0.00000099 |\n",
      "|    f43-f44 | 0.91326003 | 0.00000109 |\n",
      "|      f2*f4 | 0.91326023 | 0.00000130 |\n",
      "|        f38 | 0.91326023 | 0.00000130 |\n",
      "|    f43*f45 | 0.91326030 | 0.00000137 |\n",
      "|        f20 | 0.91326129 | 0.00000236 |\n",
      "|     f2-f43 | 0.91326153 | 0.00000260 |\n",
      "|     f2*f43 | 0.91326204 | 0.00000311 |\n",
      "|        f44 | 0.91326280 | 0.00000386 |\n",
      "|    f45*f46 | 0.91326304 | 0.00000410 |\n",
      "|      f1/f2 | 0.91326314 | 0.00000420 |\n",
      "|      f1*f4 | 0.91326314 | 0.00000420 |\n",
      "|     f5/f45 | 0.91326389 | 0.00000496 |\n",
      "|     f5-f45 | 0.91326406 | 0.00000513 |\n",
      "|      f4*f5 | 0.91326447 | 0.00000554 |\n",
      "|     f6-f43 | 0.91326594 | 0.00000701 |\n",
      "|         f4 | 0.91326707 | 0.00000814 |\n",
      "|     f4-f45 | 0.91326717 | 0.00000824 |\n",
      "|      f4*f6 | 0.91326816 | 0.00000923 |\n",
      "|      f2-f5 | 0.91326851 | 0.00000957 |\n",
      "|     f2-f44 | 0.91326881 | 0.00000988 |\n",
      "|     f1*f46 | 0.91326922 | 0.00001029 |\n",
      "|     f6*f43 | 0.91326991 | 0.00001097 |\n",
      "|     f4-f43 | 0.91327001 | 0.00001108 |\n",
      "|     f5*f46 | 0.91327076 | 0.00001183 |\n",
      "|     f6-f45 | 0.91327134 | 0.00001241 |\n",
      "|      f2+f4 | 0.91327592 | 0.00001699 |\n",
      "|    f44+f46 | 0.91327640 | 0.00001747 |\n",
      "|     f5/f43 | 0.91327661 | 0.00001767 |\n",
      "|        f39 | 0.91327811 | 0.00001918 |\n",
      "|      f1*f2 | 0.91327838 | 0.00001945 |\n",
      "|     f5*f45 | 0.91327907 | 0.00002013 |\n",
      "|    f43/f44 | 0.91328040 | 0.00002147 |\n",
      "|        f29 | 0.91328112 | 0.00002219 |\n",
      "|        f18 | 0.91328153 | 0.00002260 |\n",
      "|        f34 | 0.91328262 | 0.00002369 |\n",
      "|        f32 | 0.91328379 | 0.00002485 |\n",
      "|      f5*f6 | 0.91328867 | 0.00002974 |\n",
      "|    f43-f46 | 0.91329045 | 0.00003152 |\n",
      "|     f1+f45 | 0.91329237 | 0.00003343 |\n",
      "|     f6-f44 | 0.91329271 | 0.00003377 |\n",
      "|     f2-f45 | 0.91329336 | 0.00003442 |\n",
      "|        f46 | 0.91329421 | 0.00003528 |\n",
      "|     f2*f44 | 0.91329493 | 0.00003600 |\n",
      "|      f1+f4 | 0.91330542 | 0.00004649 |\n",
      "|    f44*f46 | 0.91330676 | 0.00004782 |\n",
      "|     f4/f46 | 0.91330860 | 0.00004967 |\n",
      "|      f2+f5 | 0.91331178 | 0.00005285 |\n",
      "|    f44+f45 | 0.91331554 | 0.00005661 |\n",
      "|     f6+f45 | 0.91331903 | 0.00006010 |\n",
      "|    f43+f46 | 0.91332344 | 0.00006451 |\n",
      "|      f1/f4 | 0.91332470 | 0.00006577 |\n",
      "|     f6/f44 | 0.91332676 | 0.00006782 |\n",
      "|     f2+f43 | 0.91333079 | 0.00007186 |\n",
      "|     f5/f44 | 0.91334436 | 0.00008543 |\n"
     ]
    }
   ],
   "source": [
    "feature_importances.sort(key=lambda x: x[2])\n",
    "for fi in feature_importances:\n",
    "    print(\"| %10s | %.8f | %.8f |\" % (fi[0], fi[1], fi[2]))"
   ]
  },
  {
   "cell_type": "code",
   "execution_count": 15,
   "id": "0b8849da",
   "metadata": {},
   "outputs": [
    {
     "name": "stdout",
     "output_type": "stream",
     "text": [
      "auc = 0.91396318\n"
     ]
    }
   ],
   "source": [
    "clf.fit(X_train[features], y_train)\n",
    "y_pred = clf.predict_proba(X_test[features])[:, 1]\n",
    "auc = roc_auc_score(y_test, y_pred)\n",
    "print('auc = %.8f' % auc)"
   ]
  },
  {
   "cell_type": "code",
   "execution_count": 16,
   "id": "cf5c6a65",
   "metadata": {},
   "outputs": [
    {
     "name": "stdout",
     "output_type": "stream",
     "text": [
      "Model = StackingClassifier, KFold = 0, val_auc = 0.9120\n",
      "Model = StackingClassifier, KFold = 1, val_auc = 0.9068\n",
      "Model = StackingClassifier, KFold = 2, val_auc = 0.9017\n",
      "Model = StackingClassifier, KFold = 3, val_auc = 0.9128\n",
      "Model = StackingClassifier, KFold = 4, val_auc = 0.9045\n",
      "Model = StackingClassifier, KFold = 5, val_auc = 0.9101\n",
      "Model = StackingClassifier, KFold = 6, val_auc = 0.9101\n",
      "Model = StackingClassifier, KFold = 7, val_auc = 0.9140\n",
      "Model = StackingClassifier, KFold = 8, val_auc = 0.9179\n",
      "Model = StackingClassifier, KFold = 9, val_auc = 0.9101\n",
      "Overall Model = StackingClassifier, AUC = 0.9098\n"
     ]
    }
   ],
   "source": [
    "train = train[features]\n",
    "test = test[features]\n",
    "preds = model_train(clf, \"StackingClassifier\", 10)"
   ]
  },
  {
   "cell_type": "code",
   "execution_count": 17,
   "id": "86b1af0d",
   "metadata": {},
   "outputs": [],
   "source": [
    "submission['label'] = preds"
   ]
  },
  {
   "cell_type": "code",
   "execution_count": 18,
   "id": "3715fc6d",
   "metadata": {},
   "outputs": [],
   "source": [
    "submission.to_csv('submission.csv', index=False)"
   ]
  },
  {
   "cell_type": "code",
   "execution_count": null,
   "id": "96eb4649",
   "metadata": {},
   "outputs": [],
   "source": []
  }
 ],
 "metadata": {
  "kernelspec": {
   "display_name": "Python 3 (ipykernel)",
   "language": "python",
   "name": "python3"
  },
  "language_info": {
   "codemirror_mode": {
    "name": "ipython",
    "version": 3
   },
   "file_extension": ".py",
   "mimetype": "text/x-python",
   "name": "python",
   "nbconvert_exporter": "python",
   "pygments_lexer": "ipython3",
   "version": "3.9.12"
  }
 },
 "nbformat": 4,
 "nbformat_minor": 5
}
