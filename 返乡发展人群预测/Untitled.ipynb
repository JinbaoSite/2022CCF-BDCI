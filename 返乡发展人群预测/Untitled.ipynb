{
 "cells": [
  {
   "cell_type": "code",
   "execution_count": 1,
   "id": "15c7dadf",
   "metadata": {},
   "outputs": [],
   "source": [
    "import pandas as pd\n",
    "import numpy as np\n",
    "import lightgbm as lgb\n",
    "from sklearn.model_selection import train_test_split"
   ]
  },
  {
   "cell_type": "code",
   "execution_count": 2,
   "id": "3b09f9b9",
   "metadata": {},
   "outputs": [],
   "source": [
    "dataTrain = pd.read_csv('dataTrain.csv')\n",
    "dataNoLabel = pd.read_csv('dataNoLabel.csv')\n",
    "dataA = pd.read_csv('dataA.csv')\n",
    "submit_example_A = pd.read_csv('submit_example_A.csv')"
   ]
  },
  {
   "cell_type": "code",
   "execution_count": 3,
   "id": "ce2b7262",
   "metadata": {},
   "outputs": [],
   "source": [
    "from sklearn.preprocessing import LabelEncoder\n",
    "feature_cols = dataTrain.columns[1:-1]\n",
    "lbls = {}\n",
    "for f in feature_cols:\n",
    "    lbl = LabelEncoder()\n",
    "    lbl.fit(sorted(dataTrain[f].tolist() + dataNoLabel[f].tolist() + dataA[f].tolist()))\n",
    "    lbls[f] = lbl"
   ]
  },
  {
   "cell_type": "code",
   "execution_count": 4,
   "id": "cc7589b7",
   "metadata": {},
   "outputs": [],
   "source": [
    "features_to_use =  feature_cols\n",
    "\n",
    "X = dataTrain[features_to_use]\n",
    "y = dataTrain['label']\n",
    "X_pred = dataA.copy()"
   ]
  },
  {
   "cell_type": "code",
   "execution_count": 5,
   "id": "612fcd91",
   "metadata": {},
   "outputs": [
    {
     "name": "stderr",
     "output_type": "stream",
     "text": [
      "C:\\Users\\Jinbao\\AppData\\Local\\Temp\\ipykernel_11680\\3511535039.py:7: SettingWithCopyWarning: \n",
      "A value is trying to be set on a copy of a slice from a DataFrame.\n",
      "Try using .loc[row_indexer,col_indexer] = value instead\n",
      "\n",
      "See the caveats in the documentation: https://pandas.pydata.org/pandas-docs/stable/user_guide/indexing.html#returning-a-view-versus-a-copy\n",
      "  X[f] = lbls[f].transform(X[f])\n",
      "C:\\Users\\Jinbao\\AppData\\Local\\Temp\\ipykernel_11680\\3511535039.py:4: SettingWithCopyWarning: \n",
      "A value is trying to be set on a copy of a slice from a DataFrame.\n",
      "Try using .loc[row_indexer,col_indexer] = value instead\n",
      "\n",
      "See the caveats in the documentation: https://pandas.pydata.org/pandas-docs/stable/user_guide/indexing.html#returning-a-view-versus-a-copy\n",
      "  X['f3'] = X['f3'].apply(lambda x:{'low':0,'mid':1,'high':2}[x])\n"
     ]
    }
   ],
   "source": [
    "#feature mapping\n",
    "for f in features_to_use:\n",
    "    if f in ['f3']:\n",
    "        X['f3'] = X['f3'].apply(lambda x:{'low':0,'mid':1,'high':2}[x])\n",
    "        X_pred['f3'] = X_pred['f3'].apply(lambda x:{'low':0,'mid':1,'high':2}[x])\n",
    "    else:\n",
    "        X[f] = lbls[f].transform(X[f])\n",
    "        X_pred[f] = lbls[f].transform(X_pred[f])"
   ]
  },
  {
   "cell_type": "code",
   "execution_count": 8,
   "id": "7523196d",
   "metadata": {},
   "outputs": [
    {
     "name": "stdout",
     "output_type": "stream",
     "text": [
      "[LightGBM] [Warning] Auto-choosing row-wise multi-threading, the overhead of testing was 0.002114 seconds.\n",
      "You can set `force_row_wise=true` to remove the overhead.\n",
      "And if memory is not enough, you can set `force_col_wise=true`.\n"
     ]
    }
   ],
   "source": [
    "#split train\n",
    "X_train, X_test, y_train, y_test = train_test_split(X, y, test_size=0.2, random_state=42)\n",
    "\n",
    "#train&test\n",
    "params = {\n",
    "            'boosting': 'gbdt',\n",
    "            'num_leaves': 15, \n",
    "            'num_iterations': 100,\n",
    "            'learning_rate': 0.1,\n",
    "            'objective': 'binary',\n",
    "            'metrics':'auc',\n",
    "            'seed': 1,\n",
    "            'verbose': 0,}\n",
    "\n",
    "lgb_train = lgb.Dataset(X_train, label=y_train)\n",
    "\n",
    "clf = lgb.train(params, lgb_train, 100,verbose_eval=0)\n",
    "y_pred_lgb = clf.predict(X_test)"
   ]
  },
  {
   "cell_type": "code",
   "execution_count": null,
   "id": "b7f2f453",
   "metadata": {},
   "outputs": [],
   "source": []
  }
 ],
 "metadata": {
  "kernelspec": {
   "display_name": "Python 3 (ipykernel)",
   "language": "python",
   "name": "python3"
  },
  "language_info": {
   "codemirror_mode": {
    "name": "ipython",
    "version": 3
   },
   "file_extension": ".py",
   "mimetype": "text/x-python",
   "name": "python",
   "nbconvert_exporter": "python",
   "pygments_lexer": "ipython3",
   "version": "3.9.12"
  }
 },
 "nbformat": 4,
 "nbformat_minor": 5
}
