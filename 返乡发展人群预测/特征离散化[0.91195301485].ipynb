{
 "cells": [
  {
   "cell_type": "code",
   "execution_count": 1,
   "id": "cd70ef6c",
   "metadata": {},
   "outputs": [
    {
     "name": "stderr",
     "output_type": "stream",
     "text": [
      "C:\\Users\\Jinbao\\anaconda3\\lib\\site-packages\\xgboost\\compat.py:36: FutureWarning: pandas.Int64Index is deprecated and will be removed from pandas in a future version. Use pandas.Index with the appropriate dtype instead.\n",
      "  from pandas import MultiIndex, Int64Index\n"
     ]
    }
   ],
   "source": [
    "# -*- coding: utf-8 -*-\n",
    "import numpy as np\n",
    "import pandas as pd\n",
    "from sklearn.preprocessing import LabelEncoder\n",
    "from sklearn.linear_model import LogisticRegression\n",
    "from xgboost import XGBClassifier\n",
    "from lightgbm import LGBMClassifier\n",
    "from catboost import CatBoostClassifier\n",
    "from sklearn.ensemble import GradientBoostingClassifier\n",
    "from sklearn.ensemble import HistGradientBoostingClassifier\n",
    "from sklearn.ensemble import StackingClassifier\n",
    "from sklearn.model_selection import StratifiedKFold\n",
    "from sklearn.metrics import roc_auc_score\n",
    "from sklearn.model_selection import train_test_split\n",
    "import warnings\n",
    "from tqdm import tqdm\n",
    "warnings.filterwarnings('ignore')"
   ]
  },
  {
   "cell_type": "code",
   "execution_count": 2,
   "id": "9aefece1",
   "metadata": {},
   "outputs": [],
   "source": [
    "train_data = pd.read_csv('data/dataTrain.csv')\n",
    "test_data = pd.read_csv('data/dataA.csv')\n",
    "submission = pd.read_csv('data/submit_example_A.csv')\n",
    "data_nolabel = pd.read_csv('data/dataNoLabel.csv')"
   ]
  },
  {
   "cell_type": "code",
   "execution_count": 3,
   "id": "e30608c0",
   "metadata": {},
   "outputs": [
    {
     "name": "stdout",
     "output_type": "stream",
     "text": [
      "train_data.shape = (59872, 48)\n",
      "test_data.shape  = (49858, 47)\n"
     ]
    }
   ],
   "source": [
    "print(f'train_data.shape = {train_data.shape}\\ntest_data.shape  = {test_data.shape}')"
   ]
  },
  {
   "cell_type": "code",
   "execution_count": 4,
   "id": "62ddd238",
   "metadata": {},
   "outputs": [],
   "source": [
    "train_data['f47'] = train_data['f1'] * 10 + train_data['f2']\n",
    "test_data['f47'] = test_data['f1'] * 10 + test_data['f2']\n",
    "# 暴力Feature 位置\n",
    "loc_f = ['f1', 'f2', 'f4', 'f5', 'f6']\n",
    "for df in [train_data, test_data]:\n",
    "    for i in range(len(loc_f)):\n",
    "        for j in range(i + 1, len(loc_f)):\n",
    "            df[f'{loc_f[i]}+{loc_f[j]}'] = df[loc_f[i]] + df[loc_f[j]]\n",
    "            df[f'{loc_f[i]}-{loc_f[j]}'] = df[loc_f[i]] - df[loc_f[j]]\n",
    "            df[f'{loc_f[i]}*{loc_f[j]}'] = df[loc_f[i]] * df[loc_f[j]]\n",
    "            df[f'{loc_f[i]}/{loc_f[j]}'] = df[loc_f[i]] / (df[loc_f[j]]+1)\n",
    "\n",
    "# 暴力Feature 通话\n",
    "com_f = ['f43', 'f44', 'f45', 'f46']\n",
    "for df in [train_data, test_data]:\n",
    "    for i in range(len(com_f)):\n",
    "        for j in range(i + 1, len(com_f)):\n",
    "            df[f'{com_f[i]}+{com_f[j]}'] = df[com_f[i]] + df[com_f[j]]\n",
    "            df[f'{com_f[i]}-{com_f[j]}'] = df[com_f[i]] - df[com_f[j]]\n",
    "            df[f'{com_f[i]}*{com_f[j]}'] = df[com_f[i]] * df[com_f[j]]\n",
    "            df[f'{com_f[i]}/{com_f[j]}'] = df[com_f[i]] / (df[com_f[j]]+1)\n",
    "# 离散化            \n",
    "all_f = [f'f{idx}' for idx in range(1, 47) if idx != 3]\n",
    "for df in [train_data, test_data]:\n",
    "    for col in all_f:\n",
    "        df[f'{col}_log'] = df[col].apply(lambda x: int(np.log(x)) if x > 0 else 0)\n",
    "# 特征交叉        \n",
    "log_f = [f'f{idx}_log' for idx in range(1, 47) if idx != 3]\n",
    "for df in [train_data, test_data]:\n",
    "    for i in range(len(log_f)):\n",
    "        for j in range(i + 1, len(log_f)):\n",
    "            df[f'{log_f[i]}_{log_f[j]}'] = df[log_f[i]]*10000 + df[log_f[j]]"
   ]
  },
  {
   "cell_type": "code",
   "execution_count": 5,
   "id": "c5c2c8d8",
   "metadata": {},
   "outputs": [],
   "source": [
    "cat_columns = ['f3']\n",
    "data = pd.concat([train_data, test_data])\n",
    "\n",
    "for col in cat_columns:\n",
    "    lb = LabelEncoder()\n",
    "    lb.fit(data[col])\n",
    "    train_data[col] = lb.transform(train_data[col])\n",
    "    test_data[col] = lb.transform(test_data[col])"
   ]
  },
  {
   "cell_type": "code",
   "execution_count": 6,
   "id": "f2cdd8d9",
   "metadata": {},
   "outputs": [],
   "source": [
    "feature_columns = [ col for col in train_data.columns if col not in ['id', 'label']]\n",
    "target = 'label'\n",
    "\n",
    "train = train_data[feature_columns][:50000]\n",
    "label = train_data[target][:50000]\n",
    "test = test_data[feature_columns]"
   ]
  },
  {
   "cell_type": "code",
   "execution_count": 7,
   "id": "8c1dc19a",
   "metadata": {},
   "outputs": [],
   "source": [
    "def model_train(model, model_name, kfold=10):\n",
    "    oof_preds = np.zeros((train.shape[0]))\n",
    "    test_preds = np.zeros(test.shape[0])\n",
    "    skf = StratifiedKFold(n_splits=kfold)\n",
    "\n",
    "    for k, (train_index, test_index) in enumerate(skf.split(train, label)):\n",
    "        x_train, x_test = train.iloc[train_index, :], train.iloc[test_index, :]\n",
    "        y_train, y_test = label.iloc[train_index], label.iloc[test_index]\n",
    "\n",
    "        model.fit(x_train,y_train)\n",
    "\n",
    "        y_pred = model.predict_proba(x_test)[:,1]\n",
    "        oof_preds[test_index] = y_pred.ravel()\n",
    "        auc = roc_auc_score(y_test,y_pred)\n",
    "        print(\"Model = %s, KFold = %d, val_auc = %.4f\" % (model_name, k, auc))\n",
    "        test_fold_preds = model.predict_proba(test)[:, 1]\n",
    "        test_preds += test_fold_preds.ravel()\n",
    "    print(\"Overall Model = %s, AUC = %.4f\" % (model_name, roc_auc_score(label, oof_preds)))\n",
    "    return test_preds / kfold"
   ]
  },
  {
   "cell_type": "code",
   "execution_count": 8,
   "id": "beb84fd2",
   "metadata": {},
   "outputs": [],
   "source": [
    "gbm = LGBMClassifier(\n",
    "    objective='binary',\n",
    "    boosting_type='gbdt',\n",
    "    num_leaves=2 ** 6, \n",
    "    max_depth=8,\n",
    "    colsample_bytree=0.8,\n",
    "    subsample_freq=1,\n",
    "    max_bin=255,\n",
    "    learning_rate=0.05, \n",
    "    n_estimators=200, \n",
    "    metrics='auc'\n",
    ")"
   ]
  },
  {
   "cell_type": "code",
   "execution_count": 9,
   "id": "21e0c448",
   "metadata": {},
   "outputs": [
    {
     "name": "stdout",
     "output_type": "stream",
     "text": [
      "Model = LGBMClassifier, KFold = 0, val_auc = 0.9060\n",
      "Model = LGBMClassifier, KFold = 1, val_auc = 0.9079\n",
      "Model = LGBMClassifier, KFold = 2, val_auc = 0.9146\n",
      "Model = LGBMClassifier, KFold = 3, val_auc = 0.9054\n",
      "Model = LGBMClassifier, KFold = 4, val_auc = 0.9049\n",
      "Model = LGBMClassifier, KFold = 5, val_auc = 0.9056\n",
      "Model = LGBMClassifier, KFold = 6, val_auc = 0.8995\n",
      "Model = LGBMClassifier, KFold = 7, val_auc = 0.9154\n",
      "Model = LGBMClassifier, KFold = 8, val_auc = 0.9146\n",
      "Model = LGBMClassifier, KFold = 9, val_auc = 0.9123\n",
      "Overall Model = LGBMClassifier, AUC = 0.9085\n"
     ]
    }
   ],
   "source": [
    "preds = model_train(gbm, \"LGBMClassifier\", 10)"
   ]
  },
  {
   "cell_type": "code",
   "execution_count": 10,
   "id": "f2fccf86",
   "metadata": {},
   "outputs": [],
   "source": [
    "submission['label'] = preds\n",
    "submission.to_csv('submission.csv', index=False)"
   ]
  },
  {
   "cell_type": "code",
   "execution_count": null,
   "id": "3cf6e0b7",
   "metadata": {},
   "outputs": [],
   "source": []
  }
 ],
 "metadata": {
  "kernelspec": {
   "display_name": "Python 3 (ipykernel)",
   "language": "python",
   "name": "python3"
  },
  "language_info": {
   "codemirror_mode": {
    "name": "ipython",
    "version": 3
   },
   "file_extension": ".py",
   "mimetype": "text/x-python",
   "name": "python",
   "nbconvert_exporter": "python",
   "pygments_lexer": "ipython3",
   "version": "3.9.12"
  }
 },
 "nbformat": 4,
 "nbformat_minor": 5
}
